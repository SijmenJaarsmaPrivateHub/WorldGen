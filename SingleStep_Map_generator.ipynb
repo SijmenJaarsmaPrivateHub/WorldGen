{
 "cells": [
  {
   "cell_type": "code",
   "execution_count": null,
   "metadata": {},
   "outputs": [],
   "source": [
    "from random import *\n",
    "import numpy as np\n",
    "import matplotlib.pyplot as plt \n",
    "# The seed used for the randomizer can be changed to change the random values. Commenting this out would create a diffrent random world every time\n",
    "seed(135642365)\n",
    "#The point drawer\n",
    "#A class that generates a random walker\n",
    "#Paramameters Explained at the _init_ point\n",
    "#Getters en Setters are ignored this class as python allows setting through the self functionality.\n",
    "class Point_Drawer:\n",
    "    #Parameters\n",
    "    #self: standard in python classes, has to be given as an initialize for the class to be accessed\n",
    "    #x_coord: The x position where the walker starts\n",
    "    #Y_coord: The y position where the walker starts\n",
    "    #Default parameters\n",
    "    #Z_coord: The colour gradient maker, is 1 by default, with how this works changing this would be 100 percent pointless as the gradient uses the top and bottom as relative values.\n",
    "    def __init__(self, x_coord, y_coord):\n",
    "        self.x_coord = x_coord\n",
    "        self.y_coord = y_coord\n",
    "        self.z_coord = 1\n",
    "    # Creates 3 random plus 1 and minus 1 values.\n",
    "    # returns all 3 plus and minus values\n",
    "    def get_randomizenumbers(self):\n",
    "        n1 = randint(-1,1)\n",
    "        n2 = randint(-1,1)\n",
    "        n3 = randint(-1,1)\n",
    "        if n2 == 0 and n1 == 0:\n",
    "            self.get_randomizenumbers()\n",
    "        return n1,n2,n3\n",
    "    # changes all 3 coord values to a new value, allthough that value can remain unchanged.\n",
    "    def change_coords(self):\n",
    "        n1, n2, n3 = self.get_randomizenumbers()\n",
    "        self.x_coord += n1\n",
    "        self.y_coord += n2\n",
    "        self.z_coord += n3"
   ]
  },
  {
   "cell_type": "code",
   "execution_count": null,
   "metadata": {},
   "outputs": [],
   "source": [
    "# initialize and create a point drawer\n",
    "point_drawer = Point_Drawer(1,5)"
   ]
  },
  {
   "cell_type": "code",
   "execution_count": null,
   "metadata": {},
   "outputs": [],
   "source": [
    "# Add the counter for the while function.\n",
    "position_attempt = 0\n",
    "# add the first coords to the numpy array named columndata\n",
    "columndata = np.array([[point_drawer.x_coord,point_drawer.y_coord,point_drawer.z_coord]])\n",
    "# repeat this function another 99.999 times\n",
    "while position_attempt < 100000:\n",
    "    point_drawer.change_coords()\n",
    "    temparray = np.array([[point_drawer.x_coord,point_drawer.y_coord,point_drawer.z_coord]])\n",
    "    columndata = np.vstack([columndata, temparray])\n",
    "    position_attempt+=1\n",
    "print(columndata)"
   ]
  },
  {
   "cell_type": "code",
   "execution_count": null,
   "metadata": {},
   "outputs": [],
   "source": [
    "# draw a black and white version of the map\n",
    "plt.scatter(columndata[:,[0]], columndata[:,[1]],marker = 's', c = \"black\", s = 1)"
   ]
  },
  {
   "cell_type": "code",
   "execution_count": null,
   "metadata": {},
   "outputs": [],
   "source": [
    "#draw a coloured function of the map adding a colourmap\n",
    "plt.scatter(columndata[:,[0]], columndata[:,[1]], c = columndata[:,[2]], marker = 's', s = 1,cmap='summer')"
   ]
  },
  {
   "cell_type": "code",
   "execution_count": null,
   "metadata": {},
   "outputs": [],
   "source": []
  }
 ],
 "metadata": {
  "kernelspec": {
   "display_name": "Python 3",
   "language": "python",
   "name": "python3"
  },
  "language_info": {
   "codemirror_mode": {
    "name": "ipython",
    "version": 3
   },
   "file_extension": ".py",
   "mimetype": "text/x-python",
   "name": "python",
   "nbconvert_exporter": "python",
   "pygments_lexer": "ipython3",
   "version": "3.8.5"
  }
 },
 "nbformat": 4,
 "nbformat_minor": 4
}
