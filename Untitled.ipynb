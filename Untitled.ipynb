{
 "cells": [
  {
   "cell_type": "code",
   "execution_count": null,
   "metadata": {},
   "outputs": [],
   "source": [
    "from random import *\n",
    "import numpy as np\n",
    "import matplotlib.pyplot as plt \n",
    "seed(1356423)\n",
    "class Point_Drawer:\n",
    "    def __init__(self, x_coord, y_coord):\n",
    "        self.x_coord = x_coord\n",
    "        self.y_coord = y_coord\n",
    "        self.z_coord = 1\n",
    "    def get_randomizenumbers(self):\n",
    "        n1 = randint(-1,1)\n",
    "        n2 = randint(-1,1)\n",
    "        if n2 == 0 and n1 == 0:\n",
    "            self.get_randomizenumbers()\n",
    "        return n1,n2\n",
    "    def change_coords(self):\n",
    "        n1, n2 = self.get_randomizenumbers()\n",
    "        self.x_coord += n1\n",
    "        self.y_coord += n2"
   ]
  },
  {
   "cell_type": "code",
   "execution_count": null,
   "metadata": {},
   "outputs": [],
   "source": [
    "point_drawer = Point_Drawer(1,5)"
   ]
  },
  {
   "cell_type": "code",
   "execution_count": null,
   "metadata": {},
   "outputs": [],
   "source": [
    "print(point_drawer.x_coord)\n",
    "print(point_drawer.y_coord)"
   ]
  },
  {
   "cell_type": "code",
   "execution_count": null,
   "metadata": {},
   "outputs": [],
   "source": []
  },
  {
   "cell_type": "code",
   "execution_count": null,
   "metadata": {},
   "outputs": [],
   "source": [
    "position_attempt = 0\n",
    "columndata = np.array([[point_drawer.x_coord,point_drawer.y_coord]])\n",
    "\n",
    "while position_attempt < 100000:\n",
    "    point_drawer.change_coords()\n",
    "    #print(\"position_attempt = \" + str(position_attempt))\n",
    "    temparray = np.array([[point_drawer.x_coord,point_drawer.y_coord]])\n",
    "    #print(temparray)\n",
    "    try:\n",
    "        columndata = np.vstack([columndata, temparray])\n",
    "    except TypeError as t:\n",
    "        print(t.args)\n",
    "    position_attempt+=1"
   ]
  },
  {
   "cell_type": "code",
   "execution_count": null,
   "metadata": {},
   "outputs": [],
   "source": []
  },
  {
   "cell_type": "code",
   "execution_count": null,
   "metadata": {},
   "outputs": [],
   "source": [
    "plt.plot(columndata[0:,:1], columndata[-0:,1:],'o', color = 'black', marker = 's');"
   ]
  },
  {
   "cell_type": "code",
   "execution_count": null,
   "metadata": {},
   "outputs": [],
   "source": []
  },
  {
   "cell_type": "code",
   "execution_count": null,
   "metadata": {},
   "outputs": [],
   "source": []
  }
 ],
 "metadata": {
  "kernelspec": {
   "display_name": "Python 3",
   "language": "python",
   "name": "python3"
  },
  "language_info": {
   "codemirror_mode": {
    "name": "ipython",
    "version": 3
   },
   "file_extension": ".py",
   "mimetype": "text/x-python",
   "name": "python",
   "nbconvert_exporter": "python",
   "pygments_lexer": "ipython3",
   "version": "3.8.5"
  }
 },
 "nbformat": 4,
 "nbformat_minor": 4
}
